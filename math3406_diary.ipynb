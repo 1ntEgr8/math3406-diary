{
 "cells": [
  {
   "cell_type": "markdown",
   "id": "b109ff82",
   "metadata": {},
   "source": [
    "# MATH 3406 Diary"
   ]
  },
  {
   "cell_type": "markdown",
   "id": "2fd60895",
   "metadata": {},
   "source": [
    "## Introduction\n",
    "\n",
    "In this diary I will be experimenting with the concepts learned in MATH 3406 and doing the assigned problems. I will be using the [Julia](https://julialang.org/) programming language. The diary is maintained through a [Jupyter notebook](https://jupyter.org/) which lets me combine prose and code in a user-friendly way.\n",
    "\n",
    "Julia is similar to MATLAB in some regards. It draws inspiration from dynamic languages like Lisp, Perl, Python, and R. Under the hood, Julia operates on the multiple-dispatch paradigm and supports optional typing.\n",
    "\n",
    "I decided to use this language because I thought it would be interesting to try it out!"
   ]
  },
  {
   "cell_type": "markdown",
   "id": "9ed7f498",
   "metadata": {},
   "source": [
    "## Basic operations"
   ]
  },
  {
   "cell_type": "code",
   "execution_count": 257,
   "id": "cf579ecf",
   "metadata": {},
   "outputs": [],
   "source": [
    "using LinearAlgebra\n",
    "using RowEchelon\n",
    "using BenchmarkTools # For benchmarking, alternative to tic; tac; in MATLAB"
   ]
  },
  {
   "cell_type": "code",
   "execution_count": 190,
   "id": "87798ea3",
   "metadata": {},
   "outputs": [
    {
     "data": {
      "text/plain": [
       "3×3 Array{Int64,2}:\n",
       " 1  2  3\n",
       " 4  1  6\n",
       " 7  8  1"
      ]
     },
     "execution_count": 190,
     "metadata": {},
     "output_type": "execute_result"
    }
   ],
   "source": [
    "A = [1 2 3; 4 1 6; 7 8 1]"
   ]
  },
  {
   "cell_type": "code",
   "execution_count": 4,
   "id": "3952a26c",
   "metadata": {},
   "outputs": [
    {
     "data": {
      "text/plain": [
       "3"
      ]
     },
     "execution_count": 4,
     "metadata": {},
     "output_type": "execute_result"
    }
   ],
   "source": [
    "tr(A)"
   ]
  },
  {
   "cell_type": "code",
   "execution_count": 5,
   "id": "3e4b637e",
   "metadata": {},
   "outputs": [
    {
     "data": {
      "text/plain": [
       "104.0"
      ]
     },
     "execution_count": 5,
     "metadata": {},
     "output_type": "execute_result"
    }
   ],
   "source": [
    "det(A)"
   ]
  },
  {
   "cell_type": "code",
   "execution_count": 6,
   "id": "bcec713f",
   "metadata": {},
   "outputs": [
    {
     "data": {
      "text/plain": [
       "3×3 Array{Float64,2}:\n",
       " -0.451923   0.211538    0.0865385\n",
       "  0.365385  -0.192308    0.0576923\n",
       "  0.240385   0.0576923  -0.0673077"
      ]
     },
     "execution_count": 6,
     "metadata": {},
     "output_type": "execute_result"
    }
   ],
   "source": [
    "inv(A)"
   ]
  },
  {
   "cell_type": "code",
   "execution_count": 191,
   "id": "f7e31bc5",
   "metadata": {},
   "outputs": [
    {
     "data": {
      "text/plain": [
       "3×3 Array{Float64,2}:\n",
       "  1.0           0.0          -2.77556e-17\n",
       " -2.22045e-16   1.0           0.0\n",
       "  3.88578e-16  -1.38778e-17   1.0"
      ]
     },
     "execution_count": 191,
     "metadata": {},
     "output_type": "execute_result"
    }
   ],
   "source": [
    "A * inv(A)"
   ]
  },
  {
   "cell_type": "markdown",
   "id": "5c87e7a9",
   "metadata": {},
   "source": [
    "Note how this is not exactly $I_3$ but is very close to it"
   ]
  },
  {
   "cell_type": "code",
   "execution_count": 184,
   "id": "5b6d148b",
   "metadata": {},
   "outputs": [
    {
     "data": {
      "text/plain": [
       "2×2 Array{Float64,2}:\n",
       " 0.0  1.0\n",
       " 0.0  0.0"
      ]
     },
     "execution_count": 184,
     "metadata": {},
     "output_type": "execute_result"
    }
   ],
   "source": [
    "rref(A)"
   ]
  },
  {
   "cell_type": "markdown",
   "id": "4a57457b",
   "metadata": {},
   "source": [
    "## Solving a linear system"
   ]
  },
  {
   "cell_type": "code",
   "execution_count": 187,
   "id": "44a12197",
   "metadata": {},
   "outputs": [
    {
     "data": {
      "text/plain": [
       "3-element Array{Float64,1}:\n",
       " 1.0\n",
       " 1.0\n",
       " 2.0"
      ]
     },
     "execution_count": 187,
     "metadata": {},
     "output_type": "execute_result"
    }
   ],
   "source": [
    "A = [2 1 1; 4 -6 0; -2 7 2]\n",
    "b = [5, -2, 9]\n",
    "A\\b"
   ]
  },
  {
   "cell_type": "markdown",
   "id": "6a57269e",
   "metadata": {},
   "source": [
    "Lets try it out with a singular matrix"
   ]
  },
  {
   "cell_type": "code",
   "execution_count": 188,
   "id": "ab263c44",
   "metadata": {},
   "outputs": [
    {
     "ename": "LoadError",
     "evalue": "\u001b[91mSingularException(3)\u001b[39m",
     "output_type": "error",
     "traceback": [
      "\u001b[91mSingularException(3)\u001b[39m",
      "",
      "Stacktrace:",
      " [1] checknonsingular at /Users/julia/buildbot/worker/package_macos64/build/usr/share/julia/stdlib/v1.5/LinearAlgebra/src/factorization.jl:19 [inlined]",
      " [2] checknonsingular at /Users/julia/buildbot/worker/package_macos64/build/usr/share/julia/stdlib/v1.5/LinearAlgebra/src/factorization.jl:21 [inlined]",
      " [3] lu!(::Array{Float64,2}, ::Val{true}; check::Bool) at /Users/julia/buildbot/worker/package_macos64/build/usr/share/julia/stdlib/v1.5/LinearAlgebra/src/lu.jl:85",
      " [4] #lu#136 at /Users/julia/buildbot/worker/package_macos64/build/usr/share/julia/stdlib/v1.5/LinearAlgebra/src/lu.jl:273 [inlined]",
      " [5] lu at /Users/julia/buildbot/worker/package_macos64/build/usr/share/julia/stdlib/v1.5/LinearAlgebra/src/lu.jl:272 [inlined] (repeats 2 times)",
      " [6] \\(::Array{Int64,2}, ::Array{Int64,1}) at /Users/julia/buildbot/worker/package_macos64/build/usr/share/julia/stdlib/v1.5/LinearAlgebra/src/generic.jl:1116",
      " [7] top-level scope at In[188]:3",
      " [8] include_string(::Function, ::Module, ::String, ::String) at ./loading.jl:1091"
     ]
    }
   ],
   "source": [
    "A = [1 2 3; 4 5 6; 7 8 9]\n",
    "b = [5, -2, 9]\n",
    "A\\b"
   ]
  },
  {
   "cell_type": "markdown",
   "id": "a815ff3a",
   "metadata": {},
   "source": [
    "Note how Julia throws a `SingularException`. This is because it checks if the matrix is singular before attempting to perform the calculation. Under the hood, Julia uses an $LU$ decomposition for non-triangular square matrices (which it fails to compute becase $A$ is singular)."
   ]
  },
  {
   "cell_type": "markdown",
   "id": "c6568448",
   "metadata": {},
   "source": [
    "## LU Decomposition"
   ]
  },
  {
   "cell_type": "code",
   "execution_count": 192,
   "id": "21f589fe",
   "metadata": {},
   "outputs": [
    {
     "data": {
      "text/plain": [
       "LU{Float64,Array{Float64,2}}\n",
       "L factor:\n",
       "4×4 Array{Float64,2}:\n",
       "  1.0   0.0   0.0  0.0\n",
       " -1.0   1.0   0.0  0.0\n",
       "  0.0  -1.0   1.0  0.0\n",
       "  0.0   0.0  -1.0  1.0\n",
       "U factor:\n",
       "4×4 Array{Float64,2}:\n",
       " 1.0  -1.0   0.0   0.0\n",
       " 0.0   1.0  -1.0   0.0\n",
       " 0.0   0.0   1.0  -1.0\n",
       " 0.0   0.0   0.0   1.0"
      ]
     },
     "execution_count": 192,
     "metadata": {},
     "output_type": "execute_result"
    }
   ],
   "source": [
    "# Tri-diagonal matrix\n",
    "A = \n",
    "[\n",
    "    1 -1 0 0;\n",
    "    -1 2 -1 0;\n",
    "    0 -1 2 -1;\n",
    "    0 0 -1 2;\n",
    "]\n",
    "\n",
    "F = lu(A)"
   ]
  },
  {
   "cell_type": "code",
   "execution_count": 149,
   "id": "b84c25e0",
   "metadata": {},
   "outputs": [
    {
     "data": {
      "text/plain": [
       "true"
      ]
     },
     "execution_count": 149,
     "metadata": {},
     "output_type": "execute_result"
    }
   ],
   "source": [
    "A[F.p, :] == F.L * F.U"
   ]
  },
  {
   "cell_type": "markdown",
   "id": "d045ef5a",
   "metadata": {},
   "source": [
    "The above decomposition did not require any row-exchanges."
   ]
  },
  {
   "cell_type": "code",
   "execution_count": 146,
   "id": "bdbf3f9c",
   "metadata": {},
   "outputs": [
    {
     "data": {
      "text/plain": [
       "LU{Float64,Array{Float64,2}}\n",
       "L factor:\n",
       "2×2 Array{Float64,2}:\n",
       " 1.0  0.0\n",
       " 0.0  1.0\n",
       "U factor:\n",
       "2×2 Array{Float64,2}:\n",
       " 3.0  4.0\n",
       " 0.0  1.0"
      ]
     },
     "metadata": {},
     "output_type": "display_data"
    },
    {
     "name": "stdout",
     "output_type": "stream",
     "text": [
      "p = [2, 1]\n"
     ]
    }
   ],
   "source": [
    "A = [0 1; 3 4]\n",
    "F = lu(A)\n",
    "display(F)\n",
    "println(\"p = \", F.p)"
   ]
  },
  {
   "cell_type": "code",
   "execution_count": 148,
   "id": "b2bebbc8",
   "metadata": {},
   "outputs": [
    {
     "data": {
      "text/plain": [
       "true"
      ]
     },
     "execution_count": 148,
     "metadata": {},
     "output_type": "execute_result"
    }
   ],
   "source": [
    "A[F.p, :] == F.L * F.U"
   ]
  },
  {
   "cell_type": "markdown",
   "id": "09660cf9",
   "metadata": {},
   "source": [
    "Note how in the above case, we needed to permuate the original matrix A. The permutation specifically is a row-exchange between $R_1$ and $R_2$"
   ]
  },
  {
   "cell_type": "code",
   "execution_count": 151,
   "id": "214a178e",
   "metadata": {},
   "outputs": [
    {
     "ename": "LoadError",
     "evalue": "\u001b[91mSingularException(1)\u001b[39m",
     "output_type": "error",
     "traceback": [
      "\u001b[91mSingularException(1)\u001b[39m",
      "",
      "Stacktrace:",
      " [1] checknonsingular at /Users/julia/buildbot/worker/package_macos64/build/usr/share/julia/stdlib/v1.5/LinearAlgebra/src/factorization.jl:19 [inlined]",
      " [2] checknonsingular at /Users/julia/buildbot/worker/package_macos64/build/usr/share/julia/stdlib/v1.5/LinearAlgebra/src/factorization.jl:21 [inlined]",
      " [3] lu!(::Array{Float64,2}, ::Val{true}; check::Bool) at /Users/julia/buildbot/worker/package_macos64/build/usr/share/julia/stdlib/v1.5/LinearAlgebra/src/lu.jl:85",
      " [4] #lu#136 at /Users/julia/buildbot/worker/package_macos64/build/usr/share/julia/stdlib/v1.5/LinearAlgebra/src/lu.jl:273 [inlined]",
      " [5] lu at /Users/julia/buildbot/worker/package_macos64/build/usr/share/julia/stdlib/v1.5/LinearAlgebra/src/lu.jl:272 [inlined] (repeats 2 times)",
      " [6] top-level scope at In[151]:2",
      " [7] include_string(::Function, ::Module, ::String, ::String) at ./loading.jl:1091"
     ]
    }
   ],
   "source": [
    "A = [0 0 1; 0 0 2; 0 3 0]\n",
    "F = lu(A)"
   ]
  },
  {
   "cell_type": "markdown",
   "id": "6ed0bc31",
   "metadata": {},
   "source": [
    "Here we tried to perform an $LU$ decomposition on a singular matrix. Note how Julia raises a `SingularException`. This is because by default Julia checks if the matrix is singular before performing a decomposition. \n",
    "\n",
    "However, we know that every matrix admits an $LUP$ decomposition, where $P$ is the permutation matrix. We can disable the checking by passing the `check=false` parameter"
   ]
  },
  {
   "cell_type": "code",
   "execution_count": 156,
   "id": "df8f9d4c",
   "metadata": {},
   "outputs": [
    {
     "data": {
      "text/plain": [
       "3×3 Array{Float64,2}:\n",
       " 1.0  0.0  0.0\n",
       " 0.0  1.0  0.0\n",
       " 0.0  0.0  1.0"
      ]
     },
     "metadata": {},
     "output_type": "display_data"
    },
    {
     "data": {
      "text/plain": [
       "3×3 Array{Float64,2}:\n",
       " 0.0  0.0  1.0\n",
       " 0.0  3.0  0.0\n",
       " 0.0  0.0  2.0"
      ]
     },
     "metadata": {},
     "output_type": "display_data"
    },
    {
     "data": {
      "text/plain": [
       "3×3 Array{Float64,2}:\n",
       " 1.0  0.0  0.0\n",
       " 0.0  0.0  1.0\n",
       " 0.0  1.0  0.0"
      ]
     },
     "metadata": {},
     "output_type": "display_data"
    },
    {
     "data": {
      "text/plain": [
       "Failed factorization of type LU{Float64,Array{Float64,2}}"
      ]
     },
     "metadata": {},
     "output_type": "display_data"
    }
   ],
   "source": [
    "F = lu(A, check=false)\n",
    "display(F.L)\n",
    "display(F.U)\n",
    "display(F.P)\n",
    "display(F)"
   ]
  },
  {
   "cell_type": "markdown",
   "id": "69451d8d",
   "metadata": {},
   "source": [
    "Here we see the $L$, $U$, and $P$ factors. It even prints a message saying that the factorization failed (which is expected for this example)"
   ]
  },
  {
   "cell_type": "markdown",
   "id": "b5a5f9c8",
   "metadata": {},
   "source": [
    "### Uniqueness of LU factorization\n",
    "\n",
    "If the matrix $A$ is square and invertible, then there exists a unique $LU$ decomposition provided we restrict $L$ to be uni-triangular (i.e., 1s on the diagonal).\n",
    "\n",
    "However, if $A$ is not invertible, we cannot make such a guarantee. Here is an example."
   ]
  },
  {
   "cell_type": "code",
   "execution_count": 167,
   "id": "68905948",
   "metadata": {},
   "outputs": [
    {
     "data": {
      "text/plain": [
       "2×2 Array{Int64,2}:\n",
       " 0  1\n",
       " 0  2"
      ]
     },
     "execution_count": 167,
     "metadata": {},
     "output_type": "execute_result"
    }
   ],
   "source": [
    "A = [0 1; 0 2]"
   ]
  },
  {
   "cell_type": "markdown",
   "id": "f2dc7d9b",
   "metadata": {},
   "source": [
    "$A$ is not singular. Here are two possible $LU$ decompositions:"
   ]
  },
  {
   "cell_type": "code",
   "execution_count": 170,
   "id": "89a33234",
   "metadata": {},
   "outputs": [
    {
     "data": {
      "text/plain": [
       "2×2 Array{Float64,2}:\n",
       " 1.0  0.0\n",
       " 0.0  1.0"
      ]
     },
     "metadata": {},
     "output_type": "display_data"
    },
    {
     "data": {
      "text/plain": [
       "2×2 Array{Float64,2}:\n",
       " 0.0  1.0\n",
       " 0.0  2.0"
      ]
     },
     "metadata": {},
     "output_type": "display_data"
    }
   ],
   "source": [
    "L1, U1 = lu(A, check=false)\n",
    "display(L1)\n",
    "display(U1)"
   ]
  },
  {
   "cell_type": "code",
   "execution_count": 179,
   "id": "69fe4e62",
   "metadata": {},
   "outputs": [
    {
     "data": {
      "text/plain": [
       "2×2 Array{Int64,2}:\n",
       " 1  0\n",
       " 3  1"
      ]
     },
     "metadata": {},
     "output_type": "display_data"
    },
    {
     "data": {
      "text/plain": [
       "2×2 Array{Int64,2}:\n",
       " 0   1\n",
       " 0  -1"
      ]
     },
     "metadata": {},
     "output_type": "display_data"
    }
   ],
   "source": [
    "L2 = [1 0; 3 1]\n",
    "U2 = [0 1; 0 -1]\n",
    "display(L2)\n",
    "display(U2)"
   ]
  },
  {
   "cell_type": "code",
   "execution_count": 181,
   "id": "3823a987",
   "metadata": {},
   "outputs": [
    {
     "data": {
      "text/plain": [
       "true"
      ]
     },
     "execution_count": 181,
     "metadata": {},
     "output_type": "execute_result"
    }
   ],
   "source": [
    "L1 * U1 == A"
   ]
  },
  {
   "cell_type": "code",
   "execution_count": 182,
   "id": "9204d70a",
   "metadata": {},
   "outputs": [
    {
     "data": {
      "text/plain": [
       "true"
      ]
     },
     "execution_count": 182,
     "metadata": {},
     "output_type": "execute_result"
    }
   ],
   "source": [
    "L2 * U2 == A"
   ]
  },
  {
   "cell_type": "markdown",
   "id": "fbecb4cd",
   "metadata": {},
   "source": [
    "## HW 1"
   ]
  },
  {
   "cell_type": "markdown",
   "id": "5a2a9ab9",
   "metadata": {},
   "source": [
    "### Section 1.3"
   ]
  },
  {
   "cell_type": "markdown",
   "id": "78759245",
   "metadata": {},
   "source": [
    "#### 30\n",
    "\n",
    "For this question, I modeled the system as `Ax = b` and used the left division operator `\\` to solve it"
   ]
  },
  {
   "cell_type": "code",
   "execution_count": 11,
   "id": "85aa3907",
   "metadata": {},
   "outputs": [
    {
     "data": {
      "text/plain": [
       "3-element Array{Float64,1}:\n",
       " 1.0\n",
       " 3.0\n",
       " 2.0"
      ]
     },
     "execution_count": 11,
     "metadata": {},
     "output_type": "execute_result"
    }
   ],
   "source": [
    "# part 1\n",
    "\n",
    "A = [1 1 1; 1 2 2; 2 3 -4]\n",
    "b = [6, 11, 3]\n",
    "x = A\\b"
   ]
  },
  {
   "cell_type": "code",
   "execution_count": 12,
   "id": "cfda9b60",
   "metadata": {},
   "outputs": [
    {
     "data": {
      "text/plain": [
       "3-element Array{Float64,1}:\n",
       " 4.0\n",
       " 1.0\n",
       " 2.0"
      ]
     },
     "execution_count": 12,
     "metadata": {},
     "output_type": "execute_result"
    }
   ],
   "source": [
    "# part 2\n",
    "\n",
    "A = [1 1 1; 1 2 2; 2 3 -4]\n",
    "b = [7, 10, 3]\n",
    "x = A\\b"
   ]
  },
  {
   "cell_type": "markdown",
   "id": "d782b11c",
   "metadata": {},
   "source": [
    "#### 32"
   ]
  },
  {
   "cell_type": "code",
   "execution_count": 204,
   "id": "6a27bd66",
   "metadata": {},
   "outputs": [
    {
     "data": {
      "text/plain": [
       "LU{Float64,Array{Float64,2}}\n",
       "L factor:\n",
       "3×3 Array{Float64,2}:\n",
       " 1.0        0.0       0.0\n",
       " 0.0138241  1.0       0.0\n",
       " 0.614814   0.778507  1.0\n",
       "U factor:\n",
       "3×3 Array{Float64,2}:\n",
       " 0.779435  0.5035     0.403196\n",
       " 0.0       0.246302   0.88074\n",
       " 0.0       0.0       -0.601532"
      ]
     },
     "execution_count": 204,
     "metadata": {},
     "output_type": "execute_result"
    }
   ],
   "source": [
    "L,U,p = lu(rand(3,3))"
   ]
  },
  {
   "cell_type": "code",
   "execution_count": 205,
   "id": "11fd66c3",
   "metadata": {},
   "outputs": [
    {
     "data": {
      "text/plain": [
       "0.7794346449731999"
      ]
     },
     "execution_count": 205,
     "metadata": {},
     "output_type": "execute_result"
    }
   ],
   "source": [
    "U[p][1,1]"
   ]
  },
  {
   "cell_type": "code",
   "execution_count": 134,
   "id": "39ee1990",
   "metadata": {},
   "outputs": [
    {
     "data": {
      "text/plain": [
       "3-element Array{Float64,1}:\n",
       " 0.538352456101028\n",
       " 0.5404040696892417\n",
       " 0.5395553022227193"
      ]
     },
     "execution_count": 134,
     "metadata": {},
     "output_type": "execute_result"
    }
   ],
   "source": [
    "res = [0, 0, 0]\n",
    "n = 100000\n",
    "\n",
    "for i = 1:n\n",
    "    A = rand(3,3)\n",
    "    L,U,p = lu(A)\n",
    "    res += abs.(diag(U)[p])\n",
    "end\n",
    "\n",
    "res/n"
   ]
  },
  {
   "cell_type": "markdown",
   "id": "802a3ec1",
   "metadata": {},
   "source": [
    "The average values for each pivot are about 0.5"
   ]
  },
  {
   "cell_type": "markdown",
   "id": "92125825",
   "metadata": {},
   "source": [
    "### Section 1.4"
   ]
  },
  {
   "cell_type": "markdown",
   "id": "7faa331d",
   "metadata": {},
   "source": [
    "#### 21"
   ]
  },
  {
   "cell_type": "code",
   "execution_count": 198,
   "id": "9e380ba4",
   "metadata": {},
   "outputs": [
    {
     "name": "stdout",
     "output_type": "stream",
     "text": [
      "A^2 = [0.5 0.5; 0.5 0.5]\n",
      "A^3 = [0.5 0.5; 0.5 0.5]\n"
     ]
    }
   ],
   "source": [
    "A = [0.5 0.5; 0.5 0.5]\n",
    "\n",
    "println(\"A^2 = \", A^2)\n",
    "println(\"A^3 = \", A^3)"
   ]
  },
  {
   "cell_type": "code",
   "execution_count": 199,
   "id": "60f2e736",
   "metadata": {},
   "outputs": [
    {
     "name": "stdout",
     "output_type": "stream",
     "text": [
      "B^2 = [1 0; 0 1]\n",
      "B^3 = [1 0; 0 -1]\n"
     ]
    }
   ],
   "source": [
    "B = [1 0; 0 -1]\n",
    "\n",
    "println(\"B^2 = \", B^2)\n",
    "println(\"B^3 = \", B^3)"
   ]
  },
  {
   "cell_type": "code",
   "execution_count": 200,
   "id": "80c30e26",
   "metadata": {},
   "outputs": [
    {
     "name": "stdout",
     "output_type": "stream",
     "text": [
      "C = [0.5 -0.5; 0.5 -0.5]\n",
      "C^2 = [0.0 0.0; 0.0 0.0]\n",
      "C^3 = [0.0 0.0; 0.0 0.0]\n"
     ]
    }
   ],
   "source": [
    "C = A*B\n",
    "println(\"C = \", C)\n",
    "println(\"C^2 = \", C^2)\n",
    "println(\"C^3 = \", C^3)"
   ]
  },
  {
   "cell_type": "markdown",
   "id": "d2e5304b",
   "metadata": {},
   "source": [
    "$A^k = A$\n",
    "\n",
    "$B^k = \n",
    "\\begin{bmatrix}\n",
    "1 & 0 \\\\\n",
    "0 & (-1)^k \\\\\n",
    "\\end{bmatrix}$\n",
    "\n",
    "$C^k = \n",
    "\\left\n",
    "\\{\n",
    "\\begin{array}{ll}\n",
    "\\begin{bmatrix}\n",
    "0.5 & -0.5 \\\\\n",
    "0.5 & -0.5 \\\\\n",
    "\\end{bmatrix}\n",
    "&\\mbox{if $k=1$} \\\\\n",
    "\\begin{bmatrix}\n",
    "0 & 0 \\\\\n",
    "0 & 0 \\\\\n",
    "\\end{bmatrix}   &\\mbox{otherwise}       \n",
    "\\end{array}\n",
    "\\right.$\n",
    "\n",
    "$k \\in \\mathbb{N}$"
   ]
  },
  {
   "cell_type": "markdown",
   "id": "68defd08",
   "metadata": {},
   "source": [
    "#### 59"
   ]
  },
  {
   "cell_type": "code",
   "execution_count": 58,
   "id": "528338dc",
   "metadata": {},
   "outputs": [
    {
     "data": {
      "text/plain": [
       "3×3 Diagonal{Bool,Array{Bool,1}}:\n",
       " 1  ⋅  ⋅\n",
       " ⋅  1  ⋅\n",
       " ⋅  ⋅  1"
      ]
     },
     "execution_count": 58,
     "metadata": {},
     "output_type": "execute_result"
    }
   ],
   "source": [
    "A = I(3)"
   ]
  },
  {
   "cell_type": "code",
   "execution_count": 63,
   "id": "7bba76c1",
   "metadata": {},
   "outputs": [
    {
     "data": {
      "text/plain": [
       "3-element Array{Int64,1}:\n",
       " 3\n",
       " 4\n",
       " 5"
      ]
     },
     "execution_count": 63,
     "metadata": {},
     "output_type": "execute_result"
    }
   ],
   "source": [
    "v = [3;4;5]"
   ]
  },
  {
   "cell_type": "code",
   "execution_count": 65,
   "id": "b27a46c0",
   "metadata": {},
   "outputs": [
    {
     "data": {
      "text/plain": [
       "1×3 Adjoint{Int64,Array{Int64,1}}:\n",
       " 3  4  5"
      ]
     },
     "execution_count": 65,
     "metadata": {},
     "output_type": "execute_result"
    }
   ],
   "source": [
    "v'"
   ]
  },
  {
   "cell_type": "code",
   "execution_count": 66,
   "id": "9c0d9e26",
   "metadata": {},
   "outputs": [
    {
     "data": {
      "text/plain": [
       "3-element Array{Int64,1}:\n",
       " 3\n",
       " 4\n",
       " 5"
      ]
     },
     "execution_count": 66,
     "metadata": {},
     "output_type": "execute_result"
    }
   ],
   "source": [
    "A*v"
   ]
  },
  {
   "cell_type": "code",
   "execution_count": 67,
   "id": "d7463b16",
   "metadata": {},
   "outputs": [
    {
     "data": {
      "text/plain": [
       "50"
      ]
     },
     "execution_count": 67,
     "metadata": {},
     "output_type": "execute_result"
    }
   ],
   "source": [
    "v' * v"
   ]
  },
  {
   "cell_type": "code",
   "execution_count": 68,
   "id": "37926c0c",
   "metadata": {},
   "outputs": [
    {
     "ename": "LoadError",
     "evalue": "\u001b[91mDimensionMismatch(\"array could not be broadcast to match destination\")\u001b[39m",
     "output_type": "error",
     "traceback": [
      "\u001b[91mDimensionMismatch(\"array could not be broadcast to match destination\")\u001b[39m",
      "",
      "Stacktrace:",
      " [1] check_broadcast_shape at ./broadcast.jl:520 [inlined]",
      " [2] check_broadcast_shape at ./broadcast.jl:521 [inlined]",
      " [3] check_broadcast_axes at ./broadcast.jl:523 [inlined]",
      " [4] check_broadcast_axes at ./broadcast.jl:527 [inlined]",
      " [5] instantiate at ./broadcast.jl:269 [inlined]",
      " [6] materialize! at ./broadcast.jl:848 [inlined]",
      " [7] materialize! at ./broadcast.jl:845 [inlined]",
      " [8] rmul!(::Array{Int64,2}, ::Diagonal{Bool,Array{Bool,1}}) at /Users/julia/buildbot/worker/package_macos64/build/usr/share/julia/stdlib/v1.5/LinearAlgebra/src/diagonal.jl:192",
      " [9] * at /Users/julia/buildbot/worker/package_macos64/build/usr/share/julia/stdlib/v1.5/LinearAlgebra/src/diagonal.jl:185 [inlined]",
      " [10] *(::Array{Int64,1}, ::Diagonal{Bool,Array{Bool,1}}) at /Users/julia/buildbot/worker/package_macos64/build/usr/share/julia/stdlib/v1.5/LinearAlgebra/src/matmul.jl:63",
      " [11] top-level scope at In[68]:1",
      " [12] include_string(::Function, ::Module, ::String, ::String) at ./loading.jl:1091"
     ]
    }
   ],
   "source": [
    "v*A"
   ]
  },
  {
   "cell_type": "markdown",
   "id": "94753198",
   "metadata": {},
   "source": [
    "#### 60"
   ]
  },
  {
   "cell_type": "code",
   "execution_count": 69,
   "id": "e856dbca",
   "metadata": {},
   "outputs": [
    {
     "data": {
      "text/plain": [
       "4×4 Array{Float64,2}:\n",
       " 1.0  1.0  1.0  1.0\n",
       " 1.0  1.0  1.0  1.0\n",
       " 1.0  1.0  1.0  1.0\n",
       " 1.0  1.0  1.0  1.0"
      ]
     },
     "execution_count": 69,
     "metadata": {},
     "output_type": "execute_result"
    }
   ],
   "source": [
    "A = ones(4,4)"
   ]
  },
  {
   "cell_type": "code",
   "execution_count": 70,
   "id": "8813b64f",
   "metadata": {},
   "outputs": [
    {
     "data": {
      "text/plain": [
       "4×1 Array{Float64,2}:\n",
       " 1.0\n",
       " 1.0\n",
       " 1.0\n",
       " 1.0"
      ]
     },
     "execution_count": 70,
     "metadata": {},
     "output_type": "execute_result"
    }
   ],
   "source": [
    "v = ones(4,1)"
   ]
  },
  {
   "cell_type": "code",
   "execution_count": 71,
   "id": "9c7051ac",
   "metadata": {},
   "outputs": [
    {
     "data": {
      "text/plain": [
       "4×1 Array{Float64,2}:\n",
       " 4.0\n",
       " 4.0\n",
       " 4.0\n",
       " 4.0"
      ]
     },
     "execution_count": 71,
     "metadata": {},
     "output_type": "execute_result"
    }
   ],
   "source": [
    "A * v"
   ]
  },
  {
   "cell_type": "code",
   "execution_count": 73,
   "id": "7bd1301d",
   "metadata": {},
   "outputs": [
    {
     "data": {
      "text/plain": [
       "4×4 Array{Float64,2}:\n",
       " 2.0  1.0  1.0  1.0\n",
       " 1.0  2.0  1.0  1.0\n",
       " 1.0  1.0  2.0  1.0\n",
       " 1.0  1.0  1.0  2.0"
      ]
     },
     "execution_count": 73,
     "metadata": {},
     "output_type": "execute_result"
    }
   ],
   "source": [
    "B = I(4) + ones(4,4)"
   ]
  },
  {
   "cell_type": "code",
   "execution_count": 74,
   "id": "d890feb3",
   "metadata": {},
   "outputs": [
    {
     "data": {
      "text/plain": [
       "4×1 Array{Float64,2}:\n",
       " 2.0\n",
       " 2.0\n",
       " 2.0\n",
       " 2.0"
      ]
     },
     "execution_count": 74,
     "metadata": {},
     "output_type": "execute_result"
    }
   ],
   "source": [
    "w = zeros(4,1) + 2 * ones(4,1)"
   ]
  },
  {
   "cell_type": "code",
   "execution_count": 75,
   "id": "e3e857df",
   "metadata": {},
   "outputs": [
    {
     "data": {
      "text/plain": [
       "4×1 Array{Float64,2}:\n",
       " 10.0\n",
       " 10.0\n",
       " 10.0\n",
       " 10.0"
      ]
     },
     "execution_count": 75,
     "metadata": {},
     "output_type": "execute_result"
    }
   ],
   "source": [
    "B * w"
   ]
  },
  {
   "cell_type": "markdown",
   "id": "2e13823a",
   "metadata": {},
   "source": [
    "### Section 1.6"
   ]
  },
  {
   "cell_type": "markdown",
   "id": "b5c62013",
   "metadata": {},
   "source": [
    "#### 12\n",
    "\n",
    "(a) True\n",
    "\n",
    "In both cases, we are calculating the inverse of a matrix $A$ using the Gauss-Jordan method.\n",
    "\n",
    "Case 1: $A$ is upper triangular\n",
    "\n",
    "Here, $A$ is already in the row-echelon form. We do not need to perform forward elimination. During the first round of backward elimination, we will do a row transformation that substracts a multiple of the last row from the penultimate row. In the last row, the only non-zero entry is the value on the diagonal on both the LHS (if this entry were zero, then $A$ would not be invertible) and RHS (which is the identity matrix). This means that when performing the row transformation, the entries below the diagonal still remain zero, since subtracting zero from a number gives back the number. WLOG, we can apply the same reasoning to conclude that the entries below the diagonal remain zero throughout the entire backward elimination process on both the LHS and RHS. This means that the RHS (which is $A^{-1}$) is upper-triangular.\n",
    "\n",
    "$\\therefore$ $A^{-1}$ is upper-triangular.\n",
    "\n",
    "Case 2: $A$ is lower triangular\n",
    "\n",
    "Here, we only need to perform forward elimination, since the entries above the diagonal are zero. WLOG, we can apply the same reasoning as in the previous case on backward elimination to conclude that the entries above the diagonal remain zero throughout the forward elimination process on both the LHS and RHS.\n",
    "\n",
    "$\\therefore$ $A^{-1}$ is lower-triangular.\n",
    "\n",
    "From both these cases, we conclude that $A^{-1}$ is triangular.\n",
    "\n",
    "(b) True\n",
    "\n",
    "If $A$ is symmetric then,\n",
    "\n",
    "$A^T = A$\n",
    "\n",
    "But, \n",
    "\n",
    "$(A^T)^{-1} = (A^{-1})^T$\n",
    "\n",
    "$\\Rightarrow A^{-1} = (A^{-1})^T$\n",
    "\n",
    "$\\therefore A^{-1}$ is symmetric.\n",
    "\n",
    "(c) False\n",
    "\n",
    "Example:\n",
    "\n",
    "$\n",
    "A = \n",
    "\\begin{bmatrix}\n",
    "1 & 1 & 0 & 0 \\\\\n",
    "1 & 1 & 1 & 0 \\\\\n",
    "0 & 1 & 1 & 1 \\\\\n",
    "0 & 0 & 1 & 1 \\\\\n",
    "\\end{bmatrix}\n",
    "$\n",
    "\n",
    "$\n",
    "A^{-1} = \n",
    "\\begin{bmatrix}\n",
    "1 & 0 & -1 & 1 \\\\\n",
    "0 & 0 & 1 & -1 \\\\\n",
    "-1 & 1 & 0 & 0 \\\\\n",
    "1 & -1 & 0 & 1 \\\\\n",
    "\\end{bmatrix}\n",
    "$\n",
    "\n",
    "(d) False\n",
    "\n",
    "Example:\n",
    "\n",
    "$\n",
    "A = \n",
    "\\begin{bmatrix}\n",
    "1 & 0 \\\\\n",
    "0 & 2 \\\\\n",
    "\\end{bmatrix}\n",
    "$\n",
    "\n",
    "$\n",
    "A^{-1} = \n",
    "\\begin{bmatrix}\n",
    "1 & 0 \\\\\n",
    "0 & \\frac{1}{2} \\\\\n",
    "\\end{bmatrix}\n",
    "$\n",
    "\n",
    "(e) True\n",
    "\n",
    "The entries of $A$ are given to be fractions. In other words, the entries of $A$ are rational (since every rational number can be expressed in the form $\\frac{p}{q}$ where $q$ is non-zero). We know that the set of rational numbers are closed under addition, multiplication, and subtraction. The set of row-transformations (as explained below) we need to apply to find the inverse using the Gauss-Jordan process precisely use addition, multiplication, and subtraction.\n",
    "\n",
    "Lets say we want to make the entry $\\frac{p}{q}$ on row $R_i$ zero by applying a row-transformation that subtracts this row from a row $R_j$ (with $j < i$) whose corresponding column entry is $\\frac{a}{b}$ (that is non-zero, it wouldn't make sense to subtract a zero entry). We can write this transformation as\n",
    "\n",
    "$$R_i \\rightarrow R_i - \\frac{p}{q}\\frac{b}{a}R_j$$\n",
    "\n",
    "Observe that this transformation takes rational numbers to rational numbers. $\\frac{b}{a}$ exists since $\\frac{a}{b}$ is non-zero.\n",
    "\n",
    "The corresponding operation that takes place on the RHS is also rational, since we start off with the identity matrix.\n",
    "\n",
    "Row-exchanges do not change the rationality of the entries.\n",
    "\n",
    "By performing a series of the above-mentioned transformations, we will be able to calculate the inverse of $A$ using the Gauss-Jordan process."
   ]
  },
  {
   "cell_type": "code",
   "execution_count": 208,
   "id": "d04121d7",
   "metadata": {},
   "outputs": [
    {
     "data": {
      "text/plain": [
       "4×4 Array{Float64,2}:\n",
       "  1.0   0.0  -1.0   1.0\n",
       "  0.0   0.0   1.0  -1.0\n",
       " -1.0   1.0   0.0  -0.0\n",
       "  1.0  -1.0   0.0   1.0"
      ]
     },
     "execution_count": 208,
     "metadata": {},
     "output_type": "execute_result"
    }
   ],
   "source": [
    "# Calculation for part (c)\n",
    "A = \n",
    "[\n",
    "    1 1 0 0;\n",
    "    1 1 1 0;\n",
    "    0 1 1 1;\n",
    "    0 0 1 1\n",
    "]\n",
    "\n",
    "inv(A)"
   ]
  },
  {
   "cell_type": "code",
   "execution_count": 214,
   "id": "61b310ef",
   "metadata": {},
   "outputs": [
    {
     "data": {
      "text/plain": [
       "2×2 Array{Float64,2}:\n",
       " 1.0  0.0\n",
       " 0.0  0.5"
      ]
     },
     "execution_count": 214,
     "metadata": {},
     "output_type": "execute_result"
    }
   ],
   "source": [
    "# Calculation for part (d)\n",
    "A =\n",
    "[\n",
    "    1 0;\n",
    "    0 2;\n",
    "]\n",
    "inv(A)"
   ]
  },
  {
   "cell_type": "markdown",
   "id": "4ed489e3",
   "metadata": {},
   "source": [
    "#### 32"
   ]
  },
  {
   "cell_type": "code",
   "execution_count": 76,
   "id": "54a94d96",
   "metadata": {},
   "outputs": [
    {
     "data": {
      "text/plain": [
       "4×4 Array{Float64,2}:\n",
       "  4.0  -1.0  -1.0  -1.0\n",
       " -1.0   4.0  -1.0  -1.0\n",
       " -1.0  -1.0   4.0  -1.0\n",
       " -1.0  -1.0  -1.0   4.0"
      ]
     },
     "execution_count": 76,
     "metadata": {},
     "output_type": "execute_result"
    }
   ],
   "source": [
    "A = 5 * I(4) - ones(4,4)"
   ]
  },
  {
   "cell_type": "code",
   "execution_count": 78,
   "id": "3896971d",
   "metadata": {},
   "outputs": [
    {
     "data": {
      "text/plain": [
       "4×4 Array{Float64,2}:\n",
       " 0.4  0.2  0.2  0.2\n",
       " 0.2  0.4  0.2  0.2\n",
       " 0.2  0.2  0.4  0.2\n",
       " 0.2  0.2  0.2  0.4"
      ]
     },
     "execution_count": 78,
     "metadata": {},
     "output_type": "execute_result"
    }
   ],
   "source": [
    "inv(A)"
   ]
  },
  {
   "cell_type": "markdown",
   "id": "18722169",
   "metadata": {},
   "source": [
    "$a = 0.4$ and $b = 0.2$"
   ]
  },
  {
   "cell_type": "code",
   "execution_count": 80,
   "id": "e62b584e",
   "metadata": {},
   "outputs": [
    {
     "data": {
      "text/plain": [
       "5×5 Array{Float64,2}:\n",
       "  5.0  -1.0  -1.0  -1.0  -1.0\n",
       " -1.0   5.0  -1.0  -1.0  -1.0\n",
       " -1.0  -1.0   5.0  -1.0  -1.0\n",
       " -1.0  -1.0  -1.0   5.0  -1.0\n",
       " -1.0  -1.0  -1.0  -1.0   5.0"
      ]
     },
     "execution_count": 80,
     "metadata": {},
     "output_type": "execute_result"
    }
   ],
   "source": [
    "A = 6 * I(5) - ones(5,5)"
   ]
  },
  {
   "cell_type": "code",
   "execution_count": 82,
   "id": "aeeae1c4",
   "metadata": {},
   "outputs": [
    {
     "data": {
      "text/plain": [
       "5×5 Array{Float64,2}:\n",
       " 0.333333  0.166667  0.166667  0.166667  0.166667\n",
       " 0.166667  0.333333  0.166667  0.166667  0.166667\n",
       " 0.166667  0.166667  0.333333  0.166667  0.166667\n",
       " 0.166667  0.166667  0.166667  0.333333  0.166667\n",
       " 0.166667  0.166667  0.166667  0.166667  0.333333"
      ]
     },
     "execution_count": 82,
     "metadata": {},
     "output_type": "execute_result"
    }
   ],
   "source": [
    "inv(A)"
   ]
  },
  {
   "cell_type": "markdown",
   "id": "d5412ce6",
   "metadata": {},
   "source": [
    "$a = 0.3333$ and $b = 0.1667$"
   ]
  },
  {
   "cell_type": "markdown",
   "id": "5f8237a5",
   "metadata": {},
   "source": [
    "#### 47"
   ]
  },
  {
   "cell_type": "code",
   "execution_count": 84,
   "id": "26faa1ea",
   "metadata": {},
   "outputs": [
    {
     "ename": "LoadError",
     "evalue": "\u001b[91mSingularException(2)\u001b[39m",
     "output_type": "error",
     "traceback": [
      "\u001b[91mSingularException(2)\u001b[39m",
      "",
      "Stacktrace:",
      " [1] checknonsingular at /Users/julia/buildbot/worker/package_macos64/build/usr/share/julia/stdlib/v1.5/LinearAlgebra/src/factorization.jl:19 [inlined]",
      " [2] checknonsingular at /Users/julia/buildbot/worker/package_macos64/build/usr/share/julia/stdlib/v1.5/LinearAlgebra/src/factorization.jl:21 [inlined]",
      " [3] lu!(::Array{Float64,2}, ::Val{true}; check::Bool) at /Users/julia/buildbot/worker/package_macos64/build/usr/share/julia/stdlib/v1.5/LinearAlgebra/src/lu.jl:85",
      " [4] #lu#136 at /Users/julia/buildbot/worker/package_macos64/build/usr/share/julia/stdlib/v1.5/LinearAlgebra/src/lu.jl:273 [inlined]",
      " [5] lu at /Users/julia/buildbot/worker/package_macos64/build/usr/share/julia/stdlib/v1.5/LinearAlgebra/src/lu.jl:272 [inlined] (repeats 2 times)",
      " [6] \\(::Array{Float64,2}, ::Array{Float64,2}) at /Users/julia/buildbot/worker/package_macos64/build/usr/share/julia/stdlib/v1.5/LinearAlgebra/src/generic.jl:1116",
      " [7] top-level scope at In[84]:3",
      " [8] include_string(::Function, ::Module, ::String, ::String) at ./loading.jl:1091"
     ]
    }
   ],
   "source": [
    "A = ones(4,4)\n",
    "b = rand(4,1)\n",
    "x = A\\b"
   ]
  },
  {
   "cell_type": "code",
   "execution_count": 91,
   "id": "2ab3e7f3",
   "metadata": {},
   "outputs": [
    {
     "ename": "LoadError",
     "evalue": "\u001b[91mSingularException(2)\u001b[39m",
     "output_type": "error",
     "traceback": [
      "\u001b[91mSingularException(2)\u001b[39m",
      "",
      "Stacktrace:",
      " [1] checknonsingular at /Users/julia/buildbot/worker/package_macos64/build/usr/share/julia/stdlib/v1.5/LinearAlgebra/src/factorization.jl:19 [inlined]",
      " [2] checknonsingular at /Users/julia/buildbot/worker/package_macos64/build/usr/share/julia/stdlib/v1.5/LinearAlgebra/src/factorization.jl:21 [inlined]",
      " [3] lu!(::Array{Float64,2}, ::Val{true}; check::Bool) at /Users/julia/buildbot/worker/package_macos64/build/usr/share/julia/stdlib/v1.5/LinearAlgebra/src/lu.jl:85",
      " [4] #lu#136 at /Users/julia/buildbot/worker/package_macos64/build/usr/share/julia/stdlib/v1.5/LinearAlgebra/src/lu.jl:273 [inlined]",
      " [5] lu at /Users/julia/buildbot/worker/package_macos64/build/usr/share/julia/stdlib/v1.5/LinearAlgebra/src/lu.jl:272 [inlined] (repeats 2 times)",
      " [6] \\(::Array{Float64,2}, ::Array{Float64,2}) at /Users/julia/buildbot/worker/package_macos64/build/usr/share/julia/stdlib/v1.5/LinearAlgebra/src/generic.jl:1116",
      " [7] top-level scope at In[91]:2",
      " [8] include_string(::Function, ::Module, ::String, ::String) at ./loading.jl:1091"
     ]
    }
   ],
   "source": [
    "b = ones(4,1)\n",
    "x = A\\b"
   ]
  },
  {
   "cell_type": "markdown",
   "id": "c3fa0e44",
   "metadata": {},
   "source": [
    "Julia throws a `SingularException` in both cases. This is because the language does not attempt to solve the equation if the matrix is singular.\n",
    "\n",
    "Running the same example in Matlab, you get the following output\n",
    "\n",
    "```matlab\n",
    ">> A = ones(4,4)\n",
    "A =\n",
    "     1     1     1     1\n",
    "     1     1     1     1\n",
    "     1     1     1     1\n",
    "     1     1     1     1\n",
    "\n",
    ">> b = rand(4,1)\n",
    "b =\n",
    "    0.8147\n",
    "    0.9058\n",
    "    0.1270\n",
    "    0.9134\n",
    " \n",
    ">> x = A\\b\n",
    "Warning: Matrix is singular to working\n",
    "precision. \n",
    "\n",
    "x =\n",
    "   NaN\n",
    "   NaN\n",
    "   NaN\n",
    "   Inf\n",
    "\n",
    ">> b = ones(4,1)\n",
    "b =\n",
    "     1\n",
    "     1\n",
    "     1\n",
    "     1\n",
    "\n",
    ">> x = A\\b\n",
    "Warning: Matrix is singular to working\n",
    "precision. \n",
    "\n",
    "x =\n",
    "   NaN\n",
    "   NaN\n",
    "   NaN\n",
    "   NaN\n",
    "```\n",
    "\n",
    "Instead of throwing an exception, MATLAB issues a warning."
   ]
  },
  {
   "cell_type": "markdown",
   "id": "7a199461",
   "metadata": {},
   "source": [
    "#### 69"
   ]
  },
  {
   "cell_type": "code",
   "execution_count": 265,
   "id": "5c97c24a",
   "metadata": {},
   "outputs": [
    {
     "name": "stdout",
     "output_type": "stream",
     "text": [
      "  7.818 ms (5 allocations: 2.16 MiB)\n"
     ]
    },
    {
     "data": {
      "text/plain": [
       "500×500 Array{Float64,2}:\n",
       " -0.232059   -0.305865    0.204706    …  -0.41236     0.848234   -0.158316\n",
       " -0.274561   -0.377009    0.77494         0.145578    0.738137    0.14288\n",
       " -0.277316   -0.545251    0.300348       -0.68765     1.20534    -0.320808\n",
       " -0.0616053  -0.119039    0.329892        0.238535    0.0353979   0.112729\n",
       "  0.0672354  -0.0878137  -0.635576       -1.0874      0.708982   -0.597247\n",
       "  0.0721308  -0.0716083   0.0177225   …  -0.496813    0.484021   -0.203767\n",
       " -0.154627   -0.523618   -0.269109       -1.62106     1.71222    -0.836199\n",
       "  0.245155    0.126372   -0.915456       -0.95324     0.268777   -0.586257\n",
       " -0.174877    0.164628    0.879089        1.73179    -1.10885     0.969218\n",
       "  0.0773281   0.0235047  -0.311736       -0.363162    0.264814   -0.238866\n",
       " -0.218165   -0.229869    0.665426    …   0.405718    0.331481    0.287417\n",
       "  0.267832   -0.01115    -1.09659        -1.67441     0.793391   -0.897267\n",
       "  0.137153    0.12134    -0.320981       -0.0961022  -0.209312   -0.134629\n",
       "  ⋮                                   ⋱                          \n",
       " -0.152681   -0.232722    0.490734       -0.0268052   0.611991    0.039019\n",
       " -0.0889187  -0.0395822  -0.16075         0.185663   -0.327413    0.105083\n",
       " -0.0738991   0.0302181   0.740914    …   1.01515    -0.409348    0.622269\n",
       "  0.0760725   0.0807437  -0.0703095      -0.0287242  -0.0360732  -0.0989715\n",
       "  0.141314   -0.0245286  -0.909044       -1.50095     1.04564    -0.806416\n",
       " -0.127831   -0.0944111   0.835114        0.639098    0.200252    0.358462\n",
       "  0.461889    0.636846   -0.780058        0.546031   -1.55416     0.292297\n",
       " -0.175867   -0.0144654  -0.00940815  …  -0.071834    0.313137   -0.0472551\n",
       "  0.132841    0.176066   -0.119316        0.23224    -0.405544    0.109026\n",
       " -0.020849    0.0328693   0.516699        0.807197   -0.361508    0.472888\n",
       " -0.189136   -0.185462    0.382118        0.288165    0.110801    0.192848\n",
       "  0.0630003  -0.107217   -0.211561       -0.610211    0.662377   -0.360026"
      ]
     },
     "execution_count": 265,
     "metadata": {},
     "output_type": "execute_result"
    }
   ],
   "source": [
    "A = rand(500, 500)\n",
    "\n",
    "@btime inv(A)"
   ]
  },
  {
   "cell_type": "code",
   "execution_count": 266,
   "id": "ecbc576f",
   "metadata": {},
   "outputs": [
    {
     "name": "stdout",
     "output_type": "stream",
     "text": [
      "  38.320 ms (5 allocations: 8.13 MiB)\n"
     ]
    },
    {
     "data": {
      "text/plain": [
       "1000×1000 Array{Float64,2}:\n",
       "  0.62497   -0.458387   -0.134949    …   0.512443    1.53798   -1.16083\n",
       "  0.17291   -0.211562   -0.142715        0.347272    0.857607  -0.893295\n",
       " -0.543666   0.431714    0.155863       -0.398559   -1.35658    1.10232\n",
       " -0.141046   0.239169    0.0773037      -0.228223   -0.859179   0.688993\n",
       "  1.01181   -0.793356   -0.238073        0.796961    2.39993   -1.87481\n",
       "  0.709584  -0.569739   -0.156784    …   0.597084    1.86341   -1.53175\n",
       " -0.294739   0.358514    0.125133       -0.488936   -1.13131    0.934847\n",
       " -0.122143   0.211812    0.0807415      -0.335547   -0.796785   0.728623\n",
       " -0.931092   0.920988    0.312525       -0.958089   -2.85479    2.3639\n",
       " -0.300808   0.328408   -0.00589672     -0.26086    -0.849034   0.529699\n",
       "  0.623683  -0.527229   -0.210475    …   0.538549    1.80466   -1.56758\n",
       "  0.782074  -0.536589   -0.144162        0.58887     1.85478   -1.44964\n",
       " -0.358967   0.183945    0.0633861      -0.131894   -0.528916   0.352792\n",
       "  ⋮                                  ⋱                         \n",
       "  0.606286  -0.532536   -0.087893        0.452189    1.55982   -1.08221\n",
       " -0.151548   0.0575045   0.00587092     -0.0033015  -0.229861   0.137279\n",
       " -0.527934   0.449225    0.242075    …  -0.51754    -1.56565    1.30969\n",
       "  0.119437  -0.0113074  -0.0525644       0.0882518   0.132097  -0.136744\n",
       "  0.490483  -0.453626   -0.0186042       0.354675    1.28757   -0.989587\n",
       "  0.369254  -0.207609   -0.10821         0.265296    0.570155  -0.393563\n",
       " -0.409215   0.531732    0.116981       -0.542399   -1.50832    1.04914\n",
       " -0.632348   0.324128    0.102967    …  -0.273332   -1.07183    0.807916\n",
       "  0.313073  -0.316972    0.00103988      0.256204    0.905331  -0.579594\n",
       " -0.432383   0.274486    0.110858       -0.372461   -1.08097    0.881925\n",
       " -0.987632   0.92885     0.321396       -0.976204   -2.86724    2.35738\n",
       " -0.220388   0.250722    0.0531822      -0.309715   -0.88543    0.65921"
      ]
     },
     "execution_count": 266,
     "metadata": {},
     "output_type": "execute_result"
    }
   ],
   "source": [
    "A = rand(1000, 1000)\n",
    "\n",
    "@btime inv(A)"
   ]
  },
  {
   "cell_type": "markdown",
   "id": "d88011d7",
   "metadata": {},
   "source": [
    "We are using the `@btime` macro from the `BenchmarkTools` package which lets us benchmark our functions easily."
   ]
  },
  {
   "cell_type": "markdown",
   "id": "91cf2f17",
   "metadata": {},
   "source": [
    "For the above two cases, computing the inverse of a random 1000x1000 matrix took longer than a random 500x500 matrix.\n",
    "\n",
    "In our case, our random `A` matrices were invertible. This may not always be the case since `rand` may output a singular matrix (which is not invertible). However, the chance of this happening is very low."
   ]
  },
  {
   "cell_type": "markdown",
   "id": "c5dc69fd",
   "metadata": {},
   "source": [
    "#### 70"
   ]
  },
  {
   "cell_type": "code",
   "execution_count": 260,
   "id": "76de7a57",
   "metadata": {},
   "outputs": [
    {
     "data": {
      "text/plain": [
       "1000×1000 Array{Float64,2}:\n",
       " 0.668256  0.500095  0.198305  0.603398  …  0.901597   0.239783   0.147324\n",
       " 0.0       0.349062  0.166038  0.687794     0.277482   0.71834    0.0785509\n",
       " 0.0       0.0       0.64725   0.399254     0.443962   0.237851   0.391373\n",
       " 0.0       0.0       0.0       0.766339     0.286818   0.270388   0.654782\n",
       " 0.0       0.0       0.0       0.0          0.455284   0.297385   0.194704\n",
       " 0.0       0.0       0.0       0.0       …  0.210236   0.103857   0.838948\n",
       " 0.0       0.0       0.0       0.0          0.0476031  0.642534   0.471228\n",
       " 0.0       0.0       0.0       0.0          0.911331   0.844099   0.54737\n",
       " 0.0       0.0       0.0       0.0          0.365171   0.328597   0.308367\n",
       " 0.0       0.0       0.0       0.0          0.460295   0.583315   0.0987463\n",
       " 0.0       0.0       0.0       0.0       …  0.239453   0.503526   0.292078\n",
       " 0.0       0.0       0.0       0.0          0.838518   0.569672   0.229836\n",
       " 0.0       0.0       0.0       0.0          0.859378   0.376304   0.463611\n",
       " ⋮                                       ⋱                        \n",
       " 0.0       0.0       0.0       0.0          0.987199   0.213412   0.260112\n",
       " 0.0       0.0       0.0       0.0          0.243775   0.857218   0.767155\n",
       " 0.0       0.0       0.0       0.0       …  0.243985   0.0759308  0.818727\n",
       " 0.0       0.0       0.0       0.0          0.092791   0.144529   0.500437\n",
       " 0.0       0.0       0.0       0.0          0.145906   0.747882   0.0426047\n",
       " 0.0       0.0       0.0       0.0          0.966844   0.664243   0.170233\n",
       " 0.0       0.0       0.0       0.0          0.496949   0.293253   0.00311442\n",
       " 0.0       0.0       0.0       0.0       …  0.968147   0.309902   0.22273\n",
       " 0.0       0.0       0.0       0.0          0.710106   0.653583   0.233324\n",
       " 0.0       0.0       0.0       0.0          0.816063   0.571443   0.106854\n",
       " 0.0       0.0       0.0       0.0          0.0        0.672444   0.233029\n",
       " 0.0       0.0       0.0       0.0          0.0        0.0        0.863416"
      ]
     },
     "execution_count": 260,
     "metadata": {},
     "output_type": "execute_result"
    }
   ],
   "source": [
    "_I = I(1000)\n",
    "A = rand(1000, 1000)\n",
    "B = triu(A)"
   ]
  },
  {
   "cell_type": "code",
   "execution_count": 261,
   "id": "2d25851f",
   "metadata": {},
   "outputs": [
    {
     "name": "stdout",
     "output_type": "stream",
     "text": [
      "  14.816 ms (2 allocations: 7.63 MiB)\n"
     ]
    },
    {
     "data": {
      "text/plain": [
       "1000×1000 Array{Float64,2}:\n",
       " 1.49643  -2.14392   0.0914981   0.698251  …    5.40099e198  -2.33354e198\n",
       " 0.0       2.86482  -0.73491    -2.18832       -1.62421e198   7.01753e197\n",
       " 0.0       0.0       1.545      -0.804926       1.40368e198  -6.0647e197\n",
       " 0.0       0.0       0.0         1.3049        -2.01067e199   8.68723e198\n",
       " 0.0       0.0       0.0         0.0           -2.59761e198   1.12231e198\n",
       " 0.0       0.0       0.0         0.0       …    6.45524e198  -2.78903e198\n",
       " 0.0       0.0       0.0         0.0            1.77419e199  -7.66551e198\n",
       " 0.0       0.0       0.0         0.0           -2.62962e198   1.13615e198\n",
       " 0.0       0.0       0.0         0.0           -1.65743e198   7.16104e197\n",
       " 0.0       0.0       0.0         0.0            4.54799e197  -1.96499e197\n",
       " 0.0       0.0       0.0         0.0       …   -2.01685e198   8.71394e197\n",
       " 0.0       0.0       0.0         0.0           -3.64057e197   1.57293e197\n",
       " 0.0       0.0       0.0         0.0            2.94919e198  -1.27422e198\n",
       " ⋮                                         ⋱                 \n",
       " 0.0       0.0       0.0         0.0          -20.5555       11.6857\n",
       " 0.0       0.0       0.0         0.0            7.70743      -2.63851\n",
       " 0.0       0.0       0.0         0.0       …   11.9014       -4.67512\n",
       " 0.0       0.0       0.0         0.0           -8.03518       1.03479\n",
       " 0.0       0.0       0.0         0.0           -4.22291       1.72643\n",
       " 0.0       0.0       0.0         0.0           -5.28121       1.88249\n",
       " 0.0       0.0       0.0         0.0           -0.375153      0.398597\n",
       " 0.0       0.0       0.0         0.0       …    6.17229      -2.30802\n",
       " 0.0       0.0       0.0         0.0           -0.308206     -0.132299\n",
       " 0.0       0.0       0.0         0.0           -1.04134       0.129397\n",
       " 0.0       0.0       0.0         0.0            1.48711      -0.401359\n",
       " 0.0       0.0       0.0         0.0            0.0           1.15819"
      ]
     },
     "execution_count": 261,
     "metadata": {},
     "output_type": "execute_result"
    }
   ],
   "source": [
    "@btime inv(B)"
   ]
  },
  {
   "cell_type": "code",
   "execution_count": 262,
   "id": "c1921a78",
   "metadata": {},
   "outputs": [
    {
     "name": "stdout",
     "output_type": "stream",
     "text": [
      "  14.605 ms (2 allocations: 7.63 MiB)\n"
     ]
    },
    {
     "data": {
      "text/plain": [
       "1000×1000 Array{Float64,2}:\n",
       " 1.49643  -2.14392   0.0914981   0.698251  …    5.40099e198  -2.33354e198\n",
       " 0.0       2.86482  -0.73491    -2.18832       -1.62421e198   7.01753e197\n",
       " 0.0       0.0       1.545      -0.804926       1.40368e198  -6.0647e197\n",
       " 0.0       0.0       0.0         1.3049        -2.01067e199   8.68723e198\n",
       " 0.0       0.0       0.0         0.0           -2.59761e198   1.12231e198\n",
       " 0.0       0.0       0.0         0.0       …    6.45524e198  -2.78903e198\n",
       " 0.0       0.0       0.0         0.0            1.77419e199  -7.66551e198\n",
       " 0.0       0.0       0.0         0.0           -2.62962e198   1.13615e198\n",
       " 0.0       0.0       0.0         0.0           -1.65743e198   7.16104e197\n",
       " 0.0       0.0       0.0         0.0            4.54799e197  -1.96499e197\n",
       " 0.0       0.0       0.0         0.0       …   -2.01685e198   8.71394e197\n",
       " 0.0       0.0       0.0         0.0           -3.64057e197   1.57293e197\n",
       " 0.0       0.0       0.0         0.0            2.94919e198  -1.27422e198\n",
       " ⋮                                         ⋱                 \n",
       " 0.0       0.0       0.0         0.0          -20.5555       11.6857\n",
       " 0.0       0.0       0.0         0.0            7.70743      -2.63851\n",
       " 0.0       0.0       0.0         0.0       …   11.9014       -4.67512\n",
       " 0.0       0.0       0.0         0.0           -8.03518       1.03479\n",
       " 0.0       0.0       0.0         0.0           -4.22291       1.72643\n",
       " 0.0       0.0       0.0         0.0           -5.28121       1.88249\n",
       " 0.0       0.0       0.0         0.0           -0.375153      0.398597\n",
       " 0.0       0.0       0.0         0.0       …    6.17229      -2.30802\n",
       " 0.0       0.0       0.0         0.0           -0.308206     -0.132299\n",
       " 0.0       0.0       0.0         0.0           -1.04134       0.129397\n",
       " 0.0       0.0       0.0         0.0            1.48711      -0.401359\n",
       " 0.0       0.0       0.0         0.0            0.0           1.15819"
      ]
     },
     "execution_count": 262,
     "metadata": {},
     "output_type": "execute_result"
    }
   ],
   "source": [
    "@btime B\\I "
   ]
  },
  {
   "cell_type": "code",
   "execution_count": 263,
   "id": "7728bd2d",
   "metadata": {},
   "outputs": [
    {
     "name": "stdout",
     "output_type": "stream",
     "text": [
      "  38.903 ms (5 allocations: 8.13 MiB)\n"
     ]
    },
    {
     "data": {
      "text/plain": [
       "1000×1000 Array{Float64,2}:\n",
       " -0.523667   -0.482268    -0.431259    …   0.337907    -0.177193\n",
       "  0.0302209   0.0881947    0.0795895       0.125973     0.136548\n",
       " -0.2323     -0.175653    -0.0670776       0.272359    -0.0551474\n",
       " -0.221193   -0.241093    -0.33921         0.46704     -0.159117\n",
       " -0.117256   -0.218634    -0.166742        0.116869    -0.10111\n",
       "  0.100683    0.165526     0.251768    …  -0.0164263    0.146091\n",
       " -0.117831   -0.221348    -0.221403        0.0552234   -0.179337\n",
       " -0.497778   -0.493654    -0.430099        0.506457    -0.300345\n",
       " -0.0535493  -0.100699     0.00524921     -0.0385063   -0.000566493\n",
       "  0.187716    0.172202     0.189148       -0.186028    -0.0132704\n",
       " -0.0657512   0.0135414   -0.0727692   …  -0.20124     -0.183351\n",
       "  0.186675    0.237737     0.239209       -0.00271675   0.111346\n",
       " -0.299828   -0.227547    -0.278998        0.141411    -0.240707\n",
       "  ⋮                                    ⋱               \n",
       "  0.108108    0.150003     0.218897       -0.223295     0.0817466\n",
       "  0.181362    0.202014     0.318621       -0.244351     0.196917\n",
       " -0.496035   -0.483929    -0.643866    …   0.393983    -0.269871\n",
       " -0.231752   -0.198725    -0.378463        0.367829    -0.0990437\n",
       " -0.491347   -0.535643    -0.607982        0.384223    -0.289614\n",
       "  0.280651    0.210103     0.365192       -0.243575     0.222415\n",
       " -0.31649    -0.26873     -0.13673         0.152516    -0.21772\n",
       " -0.312868   -0.335007    -0.294355    …   0.131205    -0.248601\n",
       " -0.0514909  -0.0730094    0.00637453     -0.00946273  -0.00663144\n",
       "  0.06681    -0.00347339   0.0198718       0.121122    -0.0265237\n",
       " -0.311042   -0.2784      -0.159137        0.179849    -0.226274\n",
       " -0.164406   -0.218984    -0.216931        0.234302     0.0177381"
      ]
     },
     "execution_count": 263,
     "metadata": {},
     "output_type": "execute_result"
    }
   ],
   "source": [
    "@btime inv(A)"
   ]
  },
  {
   "cell_type": "code",
   "execution_count": 264,
   "id": "e9231aec",
   "metadata": {},
   "outputs": [
    {
     "name": "stdout",
     "output_type": "stream",
     "text": [
      "  39.896 ms (5 allocations: 8.13 MiB)\n"
     ]
    },
    {
     "data": {
      "text/plain": [
       "1000×1000 Array{Float64,2}:\n",
       " -0.523667   -0.482268    -0.431259    …   0.337907    -0.177193\n",
       "  0.0302209   0.0881947    0.0795895       0.125973     0.136548\n",
       " -0.2323     -0.175653    -0.0670776       0.272359    -0.0551474\n",
       " -0.221193   -0.241093    -0.33921         0.46704     -0.159117\n",
       " -0.117256   -0.218634    -0.166742        0.116869    -0.10111\n",
       "  0.100683    0.165526     0.251768    …  -0.0164263    0.146091\n",
       " -0.117831   -0.221348    -0.221403        0.0552234   -0.179337\n",
       " -0.497778   -0.493654    -0.430099        0.506457    -0.300345\n",
       " -0.0535493  -0.100699     0.00524921     -0.0385063   -0.000566493\n",
       "  0.187716    0.172202     0.189148       -0.186028    -0.0132704\n",
       " -0.0657512   0.0135414   -0.0727692   …  -0.20124     -0.183351\n",
       "  0.186675    0.237737     0.239209       -0.00271675   0.111346\n",
       " -0.299828   -0.227547    -0.278998        0.141411    -0.240707\n",
       "  ⋮                                    ⋱               \n",
       "  0.108108    0.150003     0.218897       -0.223295     0.0817466\n",
       "  0.181362    0.202014     0.318621       -0.244351     0.196917\n",
       " -0.496035   -0.483929    -0.643866    …   0.393983    -0.269871\n",
       " -0.231752   -0.198725    -0.378463        0.367829    -0.0990437\n",
       " -0.491347   -0.535643    -0.607982        0.384223    -0.289614\n",
       "  0.280651    0.210103     0.365192       -0.243575     0.222415\n",
       " -0.31649    -0.26873     -0.13673         0.152516    -0.21772\n",
       " -0.312868   -0.335007    -0.294355    …   0.131205    -0.248601\n",
       " -0.0514909  -0.0730094    0.00637453     -0.00946273  -0.00663144\n",
       "  0.06681    -0.00347339   0.0198718       0.121122    -0.0265237\n",
       " -0.311042   -0.2784      -0.159137        0.179849    -0.226274\n",
       " -0.164406   -0.218984    -0.216931        0.234302     0.0177381"
      ]
     },
     "execution_count": 264,
     "metadata": {},
     "output_type": "execute_result"
    }
   ],
   "source": [
    "@btime A\\I"
   ]
  },
  {
   "cell_type": "markdown",
   "id": "8d162edf",
   "metadata": {},
   "source": [
    "The running times are almost the same.\n",
    "\n",
    "`\\` performs slightly better than `inv`"
   ]
  },
  {
   "cell_type": "markdown",
   "id": "be0b45f2",
   "metadata": {},
   "source": [
    "#### 71"
   ]
  },
  {
   "cell_type": "markdown",
   "id": "4d1c6c87",
   "metadata": {},
   "source": [
    "In Julia, rational numbers are created using the `//` operator. We can display floating point numbers are fractions using the `rationalize` function. In the following code blocks, we broadcast the `rationalize` function to the matrix."
   ]
  },
  {
   "cell_type": "code",
   "execution_count": 220,
   "id": "71b8d0a5",
   "metadata": {},
   "outputs": [
    {
     "data": {
      "text/plain": [
       "4×4 Array{Rational{Int64},2}:\n",
       "  1//1   0//1   0//1  0//1\n",
       " -1//2   1//1   0//1  0//1\n",
       "  0//1  -2//3   1//1  0//1\n",
       "  0//1   0//1  -3//4  1//1"
      ]
     },
     "execution_count": 220,
     "metadata": {},
     "output_type": "execute_result"
    }
   ],
   "source": [
    "L = [1 0 0 0; -0.5 1 0 0; 0 -2/3 1 0; 0 0 -3/4 1]\n",
    "rationalize.(L)"
   ]
  },
  {
   "cell_type": "code",
   "execution_count": 221,
   "id": "36f5e960",
   "metadata": {},
   "outputs": [
    {
     "data": {
      "text/plain": [
       "4×4 Array{Rational{Int64},2}:\n",
       " 1//1  0//1  0//1  0//1\n",
       " 1//2  1//1  0//1  0//1\n",
       " 1//3  2//3  1//1  0//1\n",
       " 1//4  1//2  3//4  1//1"
      ]
     },
     "execution_count": 221,
     "metadata": {},
     "output_type": "execute_result"
    }
   ],
   "source": [
    "rationalize.(inv(L))"
   ]
  },
  {
   "cell_type": "markdown",
   "id": "d396335a",
   "metadata": {},
   "source": [
    "##### Testing the pattern"
   ]
  },
  {
   "cell_type": "code",
   "execution_count": 217,
   "id": "7e28ce25",
   "metadata": {},
   "outputs": [
    {
     "data": {
      "text/plain": [
       "5×5 Array{Rational{Int64},2}:\n",
       "  1//1   0//1   0//1   0//1  0//1\n",
       " -1//2   1//1   0//1   0//1  0//1\n",
       "  0//1  -2//3   1//1   0//1  0//1\n",
       "  0//1   0//1  -3//4   1//1  0//1\n",
       "  0//1   0//1   0//1  -4//5  1//1"
      ]
     },
     "execution_count": 217,
     "metadata": {},
     "output_type": "execute_result"
    }
   ],
   "source": [
    "L = I(5) - diagm(1:5)\\diagm(-1=>1:4)\n",
    "rationalize.(L)"
   ]
  },
  {
   "cell_type": "code",
   "execution_count": 227,
   "id": "66d4e85e",
   "metadata": {},
   "outputs": [
    {
     "data": {
      "text/plain": [
       "4×4 Array{Rational{Int64},2}:\n",
       " 1//1  0//1  0//1  0//1\n",
       " 1//2  1//1  0//1  0//1\n",
       " 1//3  2//3  1//1  0//1\n",
       " 1//4  1//2  3//4  1//1"
      ]
     },
     "execution_count": 227,
     "metadata": {},
     "output_type": "execute_result"
    }
   ],
   "source": [
    "rationalize.(inv(L))"
   ]
  },
  {
   "cell_type": "markdown",
   "id": "dad0cda0",
   "metadata": {},
   "source": [
    "The general formula for L is\n",
    "\n",
    "`L = I(x) - diagm(1:x)\\diagm(-1=>1:(x-1))`\n",
    "\n",
    "Let's test it out for the next few matrices in the sequence"
   ]
  },
  {
   "cell_type": "code",
   "execution_count": 250,
   "id": "7afc5105",
   "metadata": {},
   "outputs": [
    {
     "data": {
      "text/plain": [
       "q71 (generic function with 1 method)"
      ]
     },
     "execution_count": 250,
     "metadata": {},
     "output_type": "execute_result"
    }
   ],
   "source": [
    "function q71(x)\n",
    "    I(x) - diagm(1:x)\\diagm(-1=>1:(x-1))\n",
    "end"
   ]
  },
  {
   "cell_type": "code",
   "execution_count": 234,
   "id": "0d1933ef",
   "metadata": {},
   "outputs": [
    {
     "data": {
      "text/plain": [
       "6×6 Array{Rational{Int64},2}:\n",
       "  1//1   0//1   0//1   0//1   0//1  0//1\n",
       " -1//2   1//1   0//1   0//1   0//1  0//1\n",
       "  0//1  -2//3   1//1   0//1   0//1  0//1\n",
       "  0//1   0//1  -3//4   1//1   0//1  0//1\n",
       "  0//1   0//1   0//1  -4//5   1//1  0//1\n",
       "  0//1   0//1   0//1   0//1  -5//6  1//1"
      ]
     },
     "execution_count": 234,
     "metadata": {},
     "output_type": "execute_result"
    }
   ],
   "source": [
    "L = q71(6)\n",
    "rationalize.(L)"
   ]
  },
  {
   "cell_type": "code",
   "execution_count": 235,
   "id": "f2778676",
   "metadata": {},
   "outputs": [
    {
     "data": {
      "text/plain": [
       "6×6 Array{Rational{Int64},2}:\n",
       " 1//1  0//1  0//1  0//1  0//1  0//1\n",
       " 1//2  1//1  0//1  0//1  0//1  0//1\n",
       " 1//3  2//3  1//1  0//1  0//1  0//1\n",
       " 1//4  1//2  3//4  1//1  0//1  0//1\n",
       " 1//5  2//5  3//5  4//5  1//1  0//1\n",
       " 1//6  1//3  1//2  2//3  5//6  1//1"
      ]
     },
     "execution_count": 235,
     "metadata": {},
     "output_type": "execute_result"
    }
   ],
   "source": [
    "rationalize.(inv(L))"
   ]
  },
  {
   "cell_type": "code",
   "execution_count": 244,
   "id": "d04e65cb",
   "metadata": {},
   "outputs": [
    {
     "data": {
      "text/plain": [
       "7×7 Array{Rational{Int64},2}:\n",
       "  1//1   0//1   0//1   0//1   0//1   0//1  0//1\n",
       " -1//2   1//1   0//1   0//1   0//1   0//1  0//1\n",
       "  0//1  -2//3   1//1   0//1   0//1   0//1  0//1\n",
       "  0//1   0//1  -3//4   1//1   0//1   0//1  0//1\n",
       "  0//1   0//1   0//1  -4//5   1//1   0//1  0//1\n",
       "  0//1   0//1   0//1   0//1  -5//6   1//1  0//1\n",
       "  0//1   0//1   0//1   0//1   0//1  -6//7  1//1"
      ]
     },
     "execution_count": 244,
     "metadata": {},
     "output_type": "execute_result"
    }
   ],
   "source": [
    "L = q71(7)\n",
    "rationalize.(L)"
   ]
  },
  {
   "cell_type": "code",
   "execution_count": 245,
   "id": "e1cd50fb",
   "metadata": {},
   "outputs": [
    {
     "data": {
      "text/plain": [
       "7×7 Array{Rational{Int64},2}:\n",
       " 1//1  0//1                0//1                 0//1  0//1  0//1  0//1\n",
       " 1//2  1//1                0//1                 0//1  0//1  0//1  0//1\n",
       " 1//3  2//3                1//1                 0//1  0//1  0//1  0//1\n",
       " 1//4  1//2                3//4                 1//1  0//1  0//1  0//1\n",
       " 1//5  2//5                3//5                 4//5  1//1  0//1  0//1\n",
       " 1//6  1//3                1//2                 2//3  5//6  1//1  0//1\n",
       " 1//7  2//7  428914250225764//1000799917193449  4//7  5//7  6//7  1//1"
      ]
     },
     "execution_count": 245,
     "metadata": {},
     "output_type": "execute_result"
    }
   ],
   "source": [
    "rationalize.(inv(L))"
   ]
  },
  {
   "cell_type": "markdown",
   "id": "a20aea2c",
   "metadata": {},
   "source": [
    "Interesting point to note: Julia fails to correctly output `3/7` in the inverse. Instead, it outputs a number that is very close to it."
   ]
  },
  {
   "cell_type": "code",
   "execution_count": 249,
   "id": "74acf3c4",
   "metadata": {},
   "outputs": [
    {
     "data": {
      "text/plain": [
       "1.6653345369377348e-16"
      ]
     },
     "execution_count": 249,
     "metadata": {},
     "output_type": "execute_result"
    }
   ],
   "source": [
    "float(428914250225764//1000799917193449) - (3/7)"
   ]
  }
 ],
 "metadata": {
  "kernelspec": {
   "display_name": "Julia 1.5.3",
   "language": "julia",
   "name": "julia-1.5"
  },
  "language_info": {
   "file_extension": ".jl",
   "mimetype": "application/julia",
   "name": "julia",
   "version": "1.5.3"
  }
 },
 "nbformat": 4,
 "nbformat_minor": 5
}
